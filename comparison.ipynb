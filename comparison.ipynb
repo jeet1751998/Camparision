{
 "cells": [
  {
   "cell_type": "code",
   "execution_count": 1,
   "metadata": {},
   "outputs": [],
   "source": [
    "import random\n",
    "suits = ('Hearts', 'Diamonds', 'Spades', 'Clubs')\n",
    "ranks = ('Two', 'Three', 'Four', 'Five', 'Six', 'Seven', 'Eight', 'Nine', 'Ten', 'Jack', 'Queen', 'King', 'Ace')\n",
    "value = {'Two':2, 'Three':3, 'Four':4, 'Five':5, 'Six':6, 'Seven':7, 'Eight':8, \n",
    "            'Nine':9, 'Ten':10, 'Jack':11, 'Queen':12, 'King':13, 'Ace':14}"
   ]
  },
  {
   "cell_type": "code",
   "execution_count": 2,
   "metadata": {},
   "outputs": [],
   "source": [
    "\n",
    "\n",
    "class Card:\n",
    "    \n",
    "    def __init__(self,suit,rank):\n",
    "        self.suit = suit\n",
    "        self.rank = rank\n",
    "        self.value = value[rank]\n",
    "    \n",
    "    def __str__(self):\n",
    "        return self.rank + \" of \" + self.suit"
   ]
  },
  {
   "cell_type": "code",
   "execution_count": 3,
   "metadata": {},
   "outputs": [],
   "source": [
    "two_hearts = Card(\"Hearts\",\"Two\")"
   ]
  },
  {
   "cell_type": "code",
   "execution_count": 4,
   "metadata": {},
   "outputs": [
    {
     "data": {
      "text/plain": [
       "<__main__.Card at 0x2108ae9a610>"
      ]
     },
     "execution_count": 4,
     "metadata": {},
     "output_type": "execute_result"
    }
   ],
   "source": [
    "two_hearts"
   ]
  },
  {
   "cell_type": "code",
   "execution_count": 5,
   "metadata": {},
   "outputs": [
    {
     "name": "stdout",
     "output_type": "stream",
     "text": [
      "Two of Hearts\n"
     ]
    }
   ],
   "source": [
    "print(two_hearts)"
   ]
  },
  {
   "cell_type": "code",
   "execution_count": 6,
   "metadata": {},
   "outputs": [
    {
     "data": {
      "text/plain": [
       "'Hearts'"
      ]
     },
     "execution_count": 6,
     "metadata": {},
     "output_type": "execute_result"
    }
   ],
   "source": [
    "two_hearts.suit"
   ]
  },
  {
   "cell_type": "code",
   "execution_count": 7,
   "metadata": {},
   "outputs": [],
   "source": [
    "three_of_clubs = Card(\"Clubs\",\"Three\")"
   ]
  },
  {
   "cell_type": "code",
   "execution_count": 8,
   "metadata": {},
   "outputs": [
    {
     "data": {
      "text/plain": [
       "3"
      ]
     },
     "execution_count": 8,
     "metadata": {},
     "output_type": "execute_result"
    }
   ],
   "source": [
    "three_of_clubs.value"
   ]
  },
  {
   "cell_type": "code",
   "execution_count": 9,
   "metadata": {},
   "outputs": [],
   "source": [
    "class Deck:\n",
    "    \n",
    "    def __init__(self):\n",
    "        \n",
    "        self.all_cards = []\n",
    "        \n",
    "        for suit in suits:\n",
    "            for rank in ranks:\n",
    "                #create card obejct\n",
    "                created_card = Card(suit,rank)\n",
    "                \n",
    "                self.all_cards.append(created_card)\n",
    "    \n",
    "    def shuffle(self):\n",
    "        \n",
    "        random.shuffle(self.all_cards)\n",
    "        \n",
    "    def deal_one(self):\n",
    "        \n",
    "        return self.all_cards.pop()\n",
    "        "
   ]
  },
  {
   "cell_type": "code",
   "execution_count": 10,
   "metadata": {},
   "outputs": [],
   "source": [
    "new_deck = Deck()"
   ]
  },
  {
   "cell_type": "code",
   "execution_count": 11,
   "metadata": {},
   "outputs": [],
   "source": [
    "bottom_card = new_deck.all_cards[-1]"
   ]
  },
  {
   "cell_type": "code",
   "execution_count": 12,
   "metadata": {},
   "outputs": [
    {
     "name": "stdout",
     "output_type": "stream",
     "text": [
      "Ace of Clubs\n"
     ]
    }
   ],
   "source": [
    "print(bottom_card)"
   ]
  },
  {
   "cell_type": "code",
   "execution_count": 13,
   "metadata": {},
   "outputs": [],
   "source": [
    "new_deck.shuffle()"
   ]
  },
  {
   "cell_type": "code",
   "execution_count": 14,
   "metadata": {},
   "outputs": [
    {
     "name": "stdout",
     "output_type": "stream",
     "text": [
      "Two of Spades\n"
     ]
    }
   ],
   "source": [
    "print(new_deck.all_cards[-1])"
   ]
  },
  {
   "cell_type": "code",
   "execution_count": 15,
   "metadata": {},
   "outputs": [],
   "source": [
    "mycard = new_deck.deal_one()"
   ]
  },
  {
   "cell_type": "code",
   "execution_count": 16,
   "metadata": {},
   "outputs": [],
   "source": [
    "class Player:\n",
    "    \n",
    "    def __init__(self,name):\n",
    "        self.name = name\n",
    "        self.all_cards = []\n",
    "    \n",
    "    def remove_one(self):\n",
    "        return self.all_cards.pop()\n",
    "    \n",
    "    def add_cards(self,new_cards):\n",
    "        if type(new_cards) == type([]):\n",
    "            # list of multiple card object\n",
    "            self.all_cards.extend(new_cards)\n",
    "        else:\n",
    "             # list of single card object\n",
    "            self.all_cards.append(new_cards)\n",
    "    \n",
    "    def __str__(self):\n",
    "        return f'Player {self.name} has {len(self.all_cards)} cards.'"
   ]
  },
  {
   "cell_type": "code",
   "execution_count": null,
   "metadata": {},
   "outputs": [],
   "source": []
  },
  {
   "cell_type": "code",
   "execution_count": 17,
   "metadata": {},
   "outputs": [],
   "source": [
    "new_player = Player(\"Jeet\")"
   ]
  },
  {
   "cell_type": "code",
   "execution_count": 18,
   "metadata": {},
   "outputs": [
    {
     "name": "stdout",
     "output_type": "stream",
     "text": [
      "Player Jeet has 0 cards.\n"
     ]
    }
   ],
   "source": [
    "print(new_player)"
   ]
  },
  {
   "cell_type": "code",
   "execution_count": 19,
   "metadata": {},
   "outputs": [
    {
     "ename": "TypeError",
     "evalue": "add_cards() missing 1 required positional argument: 'new_cards'",
     "output_type": "error",
     "traceback": [
      "\u001b[1;31m---------------------------------------------------------------------------\u001b[0m",
      "\u001b[1;31mTypeError\u001b[0m                                 Traceback (most recent call last)",
      "\u001b[1;32m<ipython-input-19-f22dffa092b3>\u001b[0m in \u001b[0;36m<module>\u001b[1;34m\u001b[0m\n\u001b[1;32m----> 1\u001b[1;33m \u001b[0mnew_player\u001b[0m\u001b[1;33m.\u001b[0m\u001b[0madd_cards\u001b[0m\u001b[1;33m(\u001b[0m\u001b[1;33m)\u001b[0m\u001b[1;33m\u001b[0m\u001b[1;33m\u001b[0m\u001b[0m\n\u001b[0m",
      "\u001b[1;31mTypeError\u001b[0m: add_cards() missing 1 required positional argument: 'new_cards'"
     ]
    }
   ],
   "source": [
    "new_player.add_cards()"
   ]
  },
  {
   "cell_type": "code",
   "execution_count": null,
   "metadata": {},
   "outputs": [],
   "source": [
    "mycard = new_deck.deal_one() "
   ]
  },
  {
   "cell_type": "code",
   "execution_count": null,
   "metadata": {},
   "outputs": [],
   "source": [
    "new_player.add_cards(mycard)"
   ]
  },
  {
   "cell_type": "code",
   "execution_count": null,
   "metadata": {},
   "outputs": [],
   "source": [
    "print(mycard)"
   ]
  },
  {
   "cell_type": "code",
   "execution_count": null,
   "metadata": {},
   "outputs": [],
   "source": [
    "print(new_player)"
   ]
  },
  {
   "cell_type": "code",
   "execution_count": null,
   "metadata": {},
   "outputs": [],
   "source": [
    "print(new_player.all_cards[0])"
   ]
  },
  {
   "cell_type": "code",
   "execution_count": 20,
   "metadata": {},
   "outputs": [],
   "source": [
    "new_player.add_cards([mycard,mycard,mycard])"
   ]
  },
  {
   "cell_type": "code",
   "execution_count": 21,
   "metadata": {},
   "outputs": [
    {
     "name": "stdout",
     "output_type": "stream",
     "text": [
      "Player Jeet has 3 cards.\n"
     ]
    }
   ],
   "source": [
    "print(new_player)"
   ]
  },
  {
   "cell_type": "code",
   "execution_count": 22,
   "metadata": {},
   "outputs": [
    {
     "data": {
      "text/plain": [
       "<__main__.Card at 0x2108aeb4c40>"
      ]
     },
     "execution_count": 22,
     "metadata": {},
     "output_type": "execute_result"
    }
   ],
   "source": [
    "new_player.remove_one()"
   ]
  },
  {
   "cell_type": "code",
   "execution_count": 23,
   "metadata": {},
   "outputs": [
    {
     "name": "stdout",
     "output_type": "stream",
     "text": [
      "Player Jeet has 2 cards.\n"
     ]
    }
   ],
   "source": [
    "print(new_player)"
   ]
  },
  {
   "cell_type": "code",
   "execution_count": null,
   "metadata": {},
   "outputs": [],
   "source": [
    "\n"
   ]
  },
  {
   "cell_type": "code",
   "execution_count": null,
   "metadata": {},
   "outputs": [],
   "source": []
  },
  {
   "cell_type": "code",
   "execution_count": null,
   "metadata": {},
   "outputs": [],
   "source": []
  },
  {
   "cell_type": "code",
   "execution_count": null,
   "metadata": {},
   "outputs": [],
   "source": []
  },
  {
   "cell_type": "code",
   "execution_count": 29,
   "metadata": {},
   "outputs": [],
   "source": [
    "# Game setup\n",
    "player_one = Player(\"One\")\n",
    "player_two = Player(\"Two\")\n",
    "\n",
    "new_deck = Deck()\n",
    "new_deck.shuffle()\n",
    "\n",
    "for x in range(26):\n",
    "    player_one.add_cards(new_deck.deal_one())\n",
    "    player_two.add_cards(new_deck.deal_one())"
   ]
  },
  {
   "cell_type": "code",
   "execution_count": 34,
   "metadata": {},
   "outputs": [
    {
     "ename": "IndexError",
     "evalue": "list index out of range",
     "output_type": "error",
     "traceback": [
      "\u001b[1;31m---------------------------------------------------------------------------\u001b[0m",
      "\u001b[1;31mIndexError\u001b[0m                                Traceback (most recent call last)",
      "\u001b[1;32m<ipython-input-34-451caac4002b>\u001b[0m in \u001b[0;36m<module>\u001b[1;34m\u001b[0m\n\u001b[1;32m----> 1\u001b[1;33m \u001b[0mprint\u001b[0m\u001b[1;33m(\u001b[0m\u001b[0mplayer_one\u001b[0m\u001b[1;33m.\u001b[0m\u001b[0mall_cards\u001b[0m\u001b[1;33m[\u001b[0m\u001b[1;36m0\u001b[0m\u001b[1;33m]\u001b[0m\u001b[1;33m)\u001b[0m\u001b[1;33m\u001b[0m\u001b[1;33m\u001b[0m\u001b[0m\n\u001b[0m\u001b[0;32m      2\u001b[0m \u001b[1;33m\u001b[0m\u001b[0m\n\u001b[0;32m      3\u001b[0m \u001b[0mprint\u001b[0m\u001b[1;33m(\u001b[0m\u001b[0mplayer_one\u001b[0m\u001b[1;33m)\u001b[0m\u001b[1;33m\u001b[0m\u001b[1;33m\u001b[0m\u001b[0m\n",
      "\u001b[1;31mIndexError\u001b[0m: list index out of range"
     ]
    }
   ],
   "source": [
    "print(player_one.all_cards[0])\n",
    "\n",
    "print(player_one)"
   ]
  },
  {
   "cell_type": "code",
   "execution_count": 31,
   "metadata": {},
   "outputs": [
    {
     "name": "stdout",
     "output_type": "stream",
     "text": [
      "Eight of Diamonds\n"
     ]
    }
   ],
   "source": [
    "print(player_two.all_cards[0])"
   ]
  },
  {
   "cell_type": "code",
   "execution_count": 32,
   "metadata": {},
   "outputs": [],
   "source": [
    "game_on = True"
   ]
  },
  {
   "cell_type": "code",
   "execution_count": 33,
   "metadata": {},
   "outputs": [
    {
     "name": "stdout",
     "output_type": "stream",
     "text": [
      "Round 1\n",
      "Round 2\n",
      "WAR!\n",
      "Round 3\n",
      "Round 4\n",
      "Round 5\n",
      "Round 6\n",
      "Round 7\n",
      "Round 8\n",
      "Round 9\n",
      "Round 10\n",
      "Round 11\n",
      "Round 12\n",
      "Round 13\n",
      "Round 14\n",
      "Round 15\n",
      "Round 16\n",
      "Round 17\n",
      "Round 18\n",
      "Round 19\n",
      "Round 20\n",
      "Round 21\n",
      "Round 22\n",
      "Round 23\n",
      "Round 24\n",
      "Round 25\n",
      "Round 26\n",
      "Round 27\n",
      "Round 28\n",
      "Round 29\n",
      "Round 30\n",
      "Round 31\n",
      "Round 32\n",
      "Round 33\n",
      "Round 34\n",
      "Round 35\n",
      "Round 36\n",
      "Player One out of cards! Game Over\n",
      "Player Two Wins!\n"
     ]
    }
   ],
   "source": [
    "\n",
    "round_num = 0\n",
    "while game_on:\n",
    "    \n",
    "    round_num += 1\n",
    "    print(f\"Round {round_num}\")\n",
    "    \n",
    "    # Check to see if a player is out of cards:\n",
    "    if len(player_one.all_cards) == 0:\n",
    "        print(\"Player One out of cards! Game Over\")\n",
    "        print(\"Player Two Wins!\")\n",
    "        game_on = False\n",
    "        break\n",
    "        \n",
    "    if len(player_two.all_cards) == 0:\n",
    "        print(\"Player Two out of cards! Game Over\")\n",
    "        print(\"Player One Wins!\")\n",
    "        game_on = False\n",
    "        break\n",
    "    \n",
    "    # Otherwise, the game is still on!\n",
    "    \n",
    "    # Start a new round and reset current cards \"on the table\"\n",
    "    player_one_cards = []\n",
    "    player_one_cards.append(player_one.remove_one())\n",
    "    \n",
    "    player_two_cards = []\n",
    "    player_two_cards.append(player_two.remove_one())\n",
    "    \n",
    "    at_war = True\n",
    "\n",
    "    while at_war:\n",
    "\n",
    "\n",
    "        if player_one_cards[-1].value > player_two_cards[-1].value:\n",
    "\n",
    "            # Player One gets the cards\n",
    "            player_one.add_cards(player_one_cards)\n",
    "            player_one.add_cards(player_two_cards)\n",
    "            \n",
    "            \n",
    "            # No Longer at \"war\" , time for next round\n",
    "            at_war = False\n",
    "        \n",
    "        # Player Two Has higher Card\n",
    "        elif player_one_cards[-1].value < player_two_cards[-1].value:\n",
    "\n",
    "            # Player Two gets the cards\n",
    "            player_two.add_cards(player_one_cards)\n",
    "            player_two.add_cards(player_two_cards)\n",
    "            \n",
    "            # No Longer at \"war\" , time for next round\n",
    "            at_war = False\n",
    "\n",
    "        else:\n",
    "            print('WAR!')\n",
    "            # This occurs when the cards are equal.\n",
    "            # We'll grab another card each and continue the current war.\n",
    "            \n",
    "            # First check to see if player has enough cards\n",
    "            \n",
    "            # Check to see if a player is out of cards:\n",
    "            if len(player_one.all_cards) < 5:\n",
    "                print(\"Player One unable to play war! Game Over at War\")\n",
    "                print(\"Player Two Wins! Player One Loses!\")\n",
    "                game_on = False\n",
    "                break\n",
    "\n",
    "            elif len(player_two.all_cards) < 5:\n",
    "                print(\"Player Two unable to play war! Game Over at War\")\n",
    "                print(\"Player One Wins! Player One Loses!\")\n",
    "                game_on = False\n",
    "                break\n",
    "            # Otherwise, we're still at war, so we'll add the next cards\n",
    "            else:\n",
    "                for num in range(5):\n",
    "                    player_one_cards.append(player_one.remove_one())\n",
    "                    player_two_cards.append(player_two.remove_one())"
   ]
  },
  {
   "cell_type": "code",
   "execution_count": null,
   "metadata": {},
   "outputs": [],
   "source": []
  }
 ],
 "metadata": {
  "kernelspec": {
   "display_name": "Python 3",
   "language": "python",
   "name": "python3"
  },
  "language_info": {
   "codemirror_mode": {
    "name": "ipython",
    "version": 3
   },
   "file_extension": ".py",
   "mimetype": "text/x-python",
   "name": "python",
   "nbconvert_exporter": "python",
   "pygments_lexer": "ipython3",
   "version": "3.8.3"
  }
 },
 "nbformat": 4,
 "nbformat_minor": 4
}
